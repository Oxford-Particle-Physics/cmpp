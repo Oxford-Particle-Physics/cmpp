{
 "cells": [
  {
   "cell_type": "code",
   "execution_count": 1,
   "id": "8db7d072",
   "metadata": {},
   "outputs": [
    {
     "name": "stdout",
     "output_type": "stream",
     "text": [
      "Welcome to JupyROOT 6.24/06\n"
     ]
    }
   ],
   "source": [
    "import ROOT"
   ]
  },
  {
   "cell_type": "code",
   "execution_count": 2,
   "id": "52dd176d",
   "metadata": {},
   "outputs": [
    {
     "name": "stdout",
     "output_type": "stream",
     "text": [
      "\n",
      "\u001b[1mRooFit v3.60 -- Developed by Wouter Verkerke and David Kirkby\u001b[0m \n",
      "                Copyright (C) 2000-2013 NIKHEF, University of California & Stanford University\n",
      "                All rights reserved, please read http://roofit.sourceforge.net/license.txt\n",
      "\n",
      "TFile**\t\t/cmpp/Lecture2_Fitting/workspaces/NumberCounting/ws_combined_NumberCounting_model.root\t\n",
      " TFile*\t\t/cmpp/Lecture2_Fitting/workspaces/NumberCounting/ws_combined_NumberCounting_model.root\t\n",
      "  KEY: RooWorkspace\tcombined;1\tcombined\n",
      "  KEY: TProcessID\tProcessID0;1\t515c3ca0-98df-11ec-ae70-020011acbeef\n",
      "  KEY: TDirectoryFile\tSR_hists;1\tSR_hists\n",
      "  KEY: RooStats::HistFactory::Measurement\tNumberCounting;1\tNumberCounting\n"
     ]
    }
   ],
   "source": [
    "oF = ROOT.TFile.Open(\"/cmpp/Lecture2_Fitting/workspaces/NumberCounting/ws_combined_NumberCounting_model.root\")\n",
    "oF.ls()"
   ]
  },
  {
   "cell_type": "code",
   "execution_count": 3,
   "id": "4d964d69",
   "metadata": {},
   "outputs": [
    {
     "name": "stdout",
     "output_type": "stream",
     "text": [
      "[#1] INFO:Minization -- p.d.f. provides expected number of events, including extended term in likelihood.\n",
      "[#1] INFO:Minization -- createNLL: caching constraint set under name CONSTR_OF_PDF_simPdf_FOR_OBS_channelCat:obs_x_SR with 1 entries\n",
      "[#1] INFO:Minization --  Including the following constraint terms in minimization: (lumiConstraint)\n",
      "[#1] INFO:Minization -- The following global observables have been defined: (nominalLumi)\n",
      "RooAbsTestStatistic::initSimMode: creating slave calculator #0 for state SR (1 dataset entries)\n",
      "[#1] INFO:NumericIntegration -- RooRealIntegral::init(SR_model_Int[obs_x_SR]) using numeric integrator RooBinIntegrator to calculate Int(obs_x_SR)\n",
      "[#1] INFO:Fitting -- RooAbsTestStatistic::initSimMode: created 1 slave calculators.\n"
     ]
    }
   ],
   "source": [
    "# Reading in the workspace\n",
    "ws = oF.Get(\"combined\")\n",
    "\n",
    "# Reading in the elements needed for the fit\n",
    "mu = ws.var(\"mu\")\n",
    "pdf = ws.pdf(\"simPdf\")\n",
    "sbModel = ws.obj(\"ModelConfig\")\n",
    "data = ws.data(\"obsData\")\n",
    "asimov = ws.data(\"asimovData\")\n",
    "\n",
    "# Configuring Minuit\n",
    "ROOT.Math.MinimizerOptions.SetDefaultMinimizer(\"Minuit2\")\n",
    "ROOT.Math.MinimizerOptions.SetDefaultStrategy(0)\n",
    "ROOT.Math.MinimizerOptions.SetDefaultPrintLevel(1)\n",
    "\n",
    "# Create a single set containing NP and POI to feed negative log-likelihood (NLL)\n",
    "params = ROOT.RooArgSet( sbModel.GetNuisanceParameters(), sbModel.GetParametersOfInterest() )\n",
    "\n",
    "# Build negative log-likelihood (NLL)\n",
    "theData = data\n",
    "nll = pdf.createNLL( theData, ROOT.RooFit.Constrain(params), ROOT.RooFit.GlobalObservables(sbModel.GetGlobalObservables()), ROOT.RooFit.Offset(1) )"
   ]
  },
  {
   "cell_type": "code",
   "execution_count": 4,
   "id": "05aed7b6",
   "metadata": {},
   "outputs": [],
   "source": [
    "# Helper function to perform the fit\n",
    "def minimize(fcn, save = False, retry_mode = 3):\n",
    "  printLevel = ROOT.Math.MinimizerOptions.DefaultPrintLevel()\n",
    "  msgLevel = ROOT.RooMsgService.instance().globalKillBelow()\n",
    "  if printLevel < 0:\n",
    "      ROOT.RooMsgService.instance().globalKillBelow(ROOT.RooFit.FATAL)\n",
    "  \n",
    "  strategy = ROOT.Math.MinimizerOptions.DefaultStrategy()\n",
    "  save_def_strategy = strategy\n",
    "\n",
    "  minimizer = ROOT.RooMinimizer(fcn)\n",
    "  minimizer.optimizeConst(2)\n",
    "  minimizer.setStrategy(strategy)\n",
    "  minimizer.setPrintLevel(printLevel)\n",
    "  minimizer.setMinimizerType(ROOT.Math.MinimizerOptions.DefaultMinimizerType())\n",
    "\n",
    "  status = minimizer.minimize( ROOT.Math.MinimizerOptions.DefaultMinimizerType(), ROOT.Math.MinimizerOptions.DefaultMinimizerAlgo() )\n",
    "\n",
    "  # Possibly re-trying if the fit didn't work\n",
    "  if retry_mode == 0:\n",
    "    if status != 0 and status != 1 and strategy < 2:\n",
    "      strategy += 1\n",
    "      logger.warning( f\"Fit failed with status {status}. Retrying with strategy {strategy}\" )\n",
    "      minimizer.setStrategy(strategy)\n",
    "      status = minimizer.minimize( ROOT.Math.MinimizerOptions.DefaultMinimizerType(), ROOT.Math.MinimizerOptions.DefaultMinimizerAlgo() )\n",
    "\n",
    "    if status != 0 and status != 1 and strategy < 2:\n",
    "      strategy += 1\n",
    "      logger.warning( f\"Fit failed with status {status}. Retrying with strategy {strategy}\" )\n",
    "      minimizer.setStrategy(strategy)\n",
    "      status = minimizer.minimize( ROOT.Math.MinimizerOptions.DefaultMinimizerType(), ROOT.Math.MinimizerOptions.DefaultMinimizerAlgo() )\n",
    "\n",
    "  else:\n",
    "    for i in range(retry_mode):\n",
    "      if status == 0 or status == 1: break\n",
    "      logger.warning( f\"Fit failed with status {status}. Retrying with strategy {strategy}.\" )\n",
    "      minimizer.setStrategy(strategy)\n",
    "      status = minimizer.minimize( ROOT.Math.MinimizerOptions.DefaultMinimizerType(), ROOT.Math.MinimizerOptions.DefaultMinimizerAlgo() )\n",
    "\n",
    "  if printLevel < 0:\n",
    "    ROOT.RooMsgService.insurance().setGlobalKillerBelow(msgLevel)\n",
    "  ROOT.Math.MinimizerOptions.SetDefaultStrategy(save_def_strategy)\n",
    "\n",
    "  if save:\n",
    "    fitRes = minimizer.save( f\"fitresult_{fcn.GetName()}\", f\"fitresult_{fcn.GetName()}\" )\n",
    "    return fitRes\n"
   ]
  },
  {
   "cell_type": "code",
   "execution_count": 5,
   "id": "d6ad0b81",
   "metadata": {},
   "outputs": [
    {
     "name": "stdout",
     "output_type": "stream",
     "text": [
      "[#1] INFO:Fitting -- RooAddition::defaultErrorLevel(nll_simPdf_obsData_with_constr) Summation contains a RooNLLVar, using its error level\n",
      "[#1] INFO:Minization -- RooMinimizer::optimizeConst: activating const optimization\n",
      "[#1] INFO:NumericIntegration -- RooRealIntegral::init(SR_model_Int[obs_x_SR]) using numeric integrator RooBinIntegrator to calculate Int(obs_x_SR)\n",
      "[#1] INFO:Minization --  The following expressions have been identified as constant and will be precalculated and cached: (S_SR_nominal,B_SR_overallSyst_x_Exp)\n",
      "Minuit2Minimizer: Minimize with max-calls 1000 convergence for edm < 1 strategy 0\n",
      "[#1] INFO:Minization -- RooNLLVar::evaluatePartition(SR) first = 0 last = 1 Likelihood offset now set to -33.6584\n",
      "Minuit2Minimizer : Valid minimum - status = 0\n",
      "FVAL  = -3.41267603487242166\n",
      "Edm   = 6.57632705355509438e-06\n",
      "Nfcn  = 22\n",
      "Lumi\t  = 1.00002\t +/-  0.0191933\t(limited)\n",
      "mu\t  = 1.59399\t +/-  0.776528\t(limited)\n"
     ]
    },
    {
     "name": "stderr",
     "output_type": "stream",
     "text": [
      "Info in <Minuit2>: MnSeedGenerator Initial state: FCN =      -3.044377767 Edm =       0.424292289 NCalls =      9\n",
      "Info in <Minuit2>: VariableMetricBuilder Start iterating until Edm is < 0.001 with call limit = 1000\n",
      "Info in <Minuit2>: VariableMetricBuilder    0 - FCN =      -3.044377767 Edm =       0.424292289 NCalls =      9\n",
      "Info in <Minuit2>: VariableMetricBuilder    1 - FCN =      -3.410907908 Edm =    0.001983649396 NCalls =     17\n",
      "Info in <Minuit2>: VariableMetricBuilder    2 - FCN =      -3.412676035 Edm =   6.576327054e-06 NCalls =     22\n",
      "Info in <RooFitResult::SaveAs>: ROOT file result.root has been created\n"
     ]
    }
   ],
   "source": [
    "res = minimize(nll, True, 0)\n",
    "res.SaveAs(\"result.root\")"
   ]
  },
  {
   "cell_type": "markdown",
   "id": "7aa2a63c",
   "metadata": {},
   "source": [
    "# Excercises\n",
    "\n",
    "1. Try runing the fit using the Asimov dataset ; what do you get for mu ?\n",
    "2. Adjust the number of signal and background events (in step 1), re-run the fit and confirm that it behaves as you'd expect"
   ]
  }
 ],
 "metadata": {
  "kernelspec": {
   "display_name": "Python 3 (ipykernel)",
   "language": "python",
   "name": "python3"
  },
  "language_info": {
   "codemirror_mode": {
    "name": "ipython",
    "version": 3
   },
   "file_extension": ".py",
   "mimetype": "text/x-python",
   "name": "python",
   "nbconvert_exporter": "python",
   "pygments_lexer": "ipython3",
   "version": "3.8.10"
  }
 },
 "nbformat": 4,
 "nbformat_minor": 5
}
