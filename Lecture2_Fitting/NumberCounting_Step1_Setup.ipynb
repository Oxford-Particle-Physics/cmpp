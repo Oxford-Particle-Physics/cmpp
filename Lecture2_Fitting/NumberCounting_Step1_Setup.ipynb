{
 "cells": [
  {
   "cell_type": "markdown",
   "id": "19fc50f1",
   "metadata": {},
   "source": []
  },
  {
   "cell_type": "code",
   "execution_count": 1,
   "id": "f0b21fcc",
   "metadata": {},
   "outputs": [
    {
     "name": "stdout",
     "output_type": "stream",
     "text": [
      "Welcome to JupyROOT 6.24/06\n"
     ]
    }
   ],
   "source": [
    "import ROOT"
   ]
  },
  {
   "cell_type": "code",
   "execution_count": 2,
   "id": "8cc7d603",
   "metadata": {},
   "outputs": [],
   "source": [
    "# Defining the dataset\n",
    "\n",
    "S = 5.7 # Signal\n",
    "B = 8.9 # Background\n",
    "O = 18  # Observed data\n",
    "\n",
    "# Creating the histograms\n",
    "hS = ROOT.TH1D(\"S\", \"S\", 1, 0, 1)\n",
    "hB = ROOT.TH1D(\"B\", \"B\", 1, 0, 1)\n",
    "hO = ROOT.TH1D(\"O\", \"O\", 1, 0, 1)\n",
    "\n",
    "# Assigning event yields to histograms\n",
    "hS.SetBinContent(1, S)\n",
    "hB.SetBinContent(1, B)\n",
    "hO.SetBinContent(1, O)"
   ]
  },
  {
   "cell_type": "code",
   "execution_count": 3,
   "id": "3c474c44",
   "metadata": {},
   "outputs": [
    {
     "data": {
      "image/png": "[encoded data removed]",
      "text/plain": [
       "<IPython.core.display.Image object>"
      ]
     },
     "metadata": {},
     "output_type": "display_data"
    }
   ],
   "source": [
    "c = ROOT.TCanvas(\"\")\n",
    "s = ROOT.THStack(\"stack\", \"Event Yields\")\n",
    "hB.SetLineColor(ROOT.kBlue)\n",
    "hB.SetFillColor(ROOT.kBlue)\n",
    "s.Add(hB)\n",
    "hS.SetLineColor(ROOT.kRed)\n",
    "hS.SetFillColor(ROOT.kRed)\n",
    "s.Add(hS)\n",
    "hO.SetLineColor(ROOT.kBlack)\n",
    "hO.SetMinimum(0)\n",
    "\n",
    "hO.Draw(\"same E0\")\n",
    "s.Draw(\"hist same\")\n",
    "\n",
    "c.Draw()"
   ]
  },
  {
   "cell_type": "code",
   "execution_count": 4,
   "id": "277695f9",
   "metadata": {},
   "outputs": [
    {
     "name": "stdout",
     "output_type": "stream",
     "text": [
      "\n",
      "\u001b[1mRooFit v3.60 -- Developed by Wouter Verkerke and David Kirkby\u001b[0m \n",
      "                Copyright (C) 2000-2013 NIKHEF, University of California & Stanford University\n",
      "                All rights reserved, please read http://roofit.sourceforge.net/license.txt\n",
      "\n"
     ]
    }
   ],
   "source": [
    "# Creating HistFactory model\n",
    "meas = ROOT.RooStats.HistFactory.Measurement(\"NumberCounting\", \"NumberCounting\")\n",
    "meas.SetOutputFilePrefix(\"workspaces/NumberCounting/ws\")\n",
    "meas.SetExportOnly(1)\n",
    "meas.SetPOI(\"mu\") # Setting Parameter Of Interest (POI)\n",
    "\n",
    "meas.SetLumi(1.0)\n",
    "meas.SetLumiRelErr(0.019) # Typical uncertainty on integrated luminosity at LHC Run-2"
   ]
  },
  {
   "cell_type": "code",
   "execution_count": 5,
   "id": "3109f147",
   "metadata": {},
   "outputs": [],
   "source": [
    "!mkdir -p /cmpp/Lecture2_Fitting/workspaces/NumberCounting"
   ]
  },
  {
   "cell_type": "code",
   "execution_count": 6,
   "id": "1fc7d9eb",
   "metadata": {},
   "outputs": [
    {
     "name": "stdout",
     "output_type": "stream",
     "text": [
      "Measurement Name: NumberCounting\t OutputFilePrefix: workspaces/NumberCounting/ws\t POI: mu\t Lumi: 1\t LumiRelErr: 0.019\t BinLow: 0\t BinHigh: 1\t ExportOnly: 1\n",
      "Channels:\n",
      "\t Channel Name: SR\t InputFile: \n",
      "\t Data:\n",
      "\t \t InputFile: \t HistoName: O\t HistoPath: \t HistoAddress: 0x93f4940\n",
      "\t statErrorConfig:\n",
      "\t \t RelErrorThreshold: 0.05\t ConstraintType: Poisson\n",
      "\t Samples: \n",
      "\t \t Name: S\t \t Channel: SR\t NormalizeByTheory: True\t StatErrorActivate: False\n",
      "\t \t \t \t \t InputFile: \t HistName: S\t HistoPath: \t HistoAddress: 0x93f5300\n",
      "\t \t Name: B\t \t Channel: SR\t NormalizeByTheory: True\t StatErrorActivate: False\n",
      "\t \t \t \t \t InputFile: \t HistName: B\t HistoPath: \t HistoAddress: 0x93f5d30\n",
      "\t End of Channel SR\n",
      "[#2] INFO:HistFactory -- End Measurement: NumberCounting\n"
     ]
    }
   ],
   "source": [
    "# Creating the parameters of the model\n",
    "\n",
    "muS = ROOT.RooStats.HistFactory.NormFactor()\n",
    "muS.SetName(\"mu\")\n",
    "muS.SetHigh(100)    # Highest possible value in fit\n",
    "muS.SetLow(0)       # Lowest possible value in fit\n",
    "muS.SetVal(1)       # Nominal value\n",
    "\n",
    "# Creating the Signal Region (SR)\n",
    "SR = ROOT.RooStats.HistFactory.Channel(\"SR\")\n",
    "SR.SetData(hO) # Assigning the observed events as data\n",
    "\n",
    "# Adding the signal and background samples\n",
    "\n",
    "sS = ROOT.RooStats.HistFactory.Sample(\"S\")\n",
    "sS.SetHisto(hS)\n",
    "sS.AddNormFactor(muS)\n",
    "SR.AddSample(sS)\n",
    "\n",
    "sB = ROOT.RooStats.HistFactory.Sample(\"B\")\n",
    "sB.SetHisto(hB)\n",
    "SR.AddSample(sB)\n",
    "\n",
    "meas.AddChannel(SR)\n",
    "\n",
    "meas.PrintTree()"
   ]
  },
  {
   "cell_type": "code",
   "execution_count": 7,
   "id": "e3b1f458",
   "metadata": {},
   "outputs": [
    {
     "data": {
      "text/plain": [
       "<cppyy.gbl.RooWorkspace object at 0xa9b0160>"
      ]
     },
     "execution_count": 7,
     "metadata": {},
     "output_type": "execute_result"
    },
    {
     "name": "stdout",
     "output_type": "stream",
     "text": [
      "[#2] INFO:HistFactory -- Making Model and Measurements (Fast) for measurement: NumberCounting\n",
      "[#2] INFO:HistFactory -- using lumi = 1 and lumiError = 0.019 including bins between 0 and 1\n",
      "[#2] INFO:HistFactory -- fixing the following parameters:\n",
      "[#2] INFO:HistFactory -- Creating the output file: workspaces/NumberCounting/ws_NumberCounting.root\n",
      "[#2] INFO:HistFactory -- Creating the table file: workspaces/NumberCounting/ws_results.table\n",
      "[#2] INFO:HistFactory -- Creating the HistoToWorkspaceFactoryFast factory\n",
      "[#2] INFO:HistFactory -- Setting preprocess functions\n",
      "[#2] PROGRESS:HistFactory -- Starting to process channel: SR\n",
      "[#2] PROGRESS:HistFactory -- \n",
      "-----------------------------------------\n",
      "\tStarting to process 'SR' channel with 1 observables\n",
      "-----------------------------------------\n",
      "\n",
      "[#2] INFO:HistFactory -- lumi str = [1,0,10]\n",
      "[#2] INFO:HistFactory -- lumi Error str = nominalLumi[1,0,1.19],0.019\n",
      "[#2] INFO:HistFactory -- making normFactor: mu\n",
      "[#2] WARNING:HistFactory -- Const attribute to <NormFactor> tag is deprecated, will ignore. Instead, add \n",
      "\t<ParamSetting Const=\"True\">mu</ParamSetting>\n",
      " to your top-level XML's <Measurment> entry\n",
      "[#2] INFO:HistFactory -- S_SR has no variation histograms \n",
      "[#2] INFO:HistFactory -- processing hist S\n",
      "[#2] INFO:HistFactory -- B_SR has no variation histograms \n",
      "[#2] INFO:HistFactory -- processing hist B\n",
      "[#2] PROGRESS:HistFactory -- \n",
      "-----------------------------------------\n",
      "\timport model into workspace\n",
      "-----------------------------------------\n",
      "\n",
      "[#1] INFO:NumericIntegration -- RooRealIntegral::init(SR_model_Int[obs_x_SR]) using numeric integrator RooBinIntegrator to calculate Int(obs_x_SR)\n",
      "RooDataSet::AsimovData[obs_x_SR,weight:binWeightAsimov] = 1 entries (14.6 weighted)\n",
      "\n",
      "RooWorkspace(SR) SR workspace contents\n",
      "\n",
      "variables\n",
      "---------\n",
      "(Lumi,binWidth_obs_x_SR_0,binWidth_obs_x_SR_1,mu,nominalLumi,obs_x_SR,weightVar)\n",
      "\n",
      "p.d.f.s\n",
      "-------\n",
      "RooRealSumPdf::SR_model[ binWidth_obs_x_SR_0 * L_x_S_SR_overallSyst_x_Exp + binWidth_obs_x_SR_1 * L_x_B_SR_overallSyst_x_Exp ] = 14.6/14.6\n",
      "RooGaussian::lumiConstraint[ x=Lumi mean=nominalLumi sigma=0.019 ] = 1\n",
      "RooProdPdf::model_SR[ lumiConstraint * SR_model(obs_x_SR) ] = 14.6\n",
      "\n",
      "functions\n",
      "--------\n",
      "RooHistFunc::B_SR_nominal[ depList=(obs_x_SR) ] = 8.9\n",
      "RooProduct::B_SR_overallSyst_x_Exp[ B_SR_nominal * B_SR_epsilon ] = 8.9\n",
      "RooProduct::L_x_B_SR_overallSyst_x_Exp[ Lumi * B_SR_overallSyst_x_Exp ] = 8.9\n",
      "RooProduct::L_x_S_SR_overallSyst_x_Exp[ Lumi * S_SR_overallSyst_x_Exp ] = 5.7\n",
      "RooHistFunc::S_SR_nominal[ depList=(obs_x_SR) ] = 5.7\n",
      "RooProduct::S_SR_overallNorm_x_sigma_epsilon[ mu * S_SR_epsilon ] = 1\n",
      "RooProduct::S_SR_overallSyst_x_Exp[ S_SR_nominal * S_SR_overallNorm_x_sigma_epsilon ] = 5.7\n",
      "\n",
      "datasets\n",
      "--------\n",
      "RooDataSet::asimovData(obs_x_SR)\n",
      "RooDataSet::obsData(obs_x_SR)\n",
      "\n",
      "embedded datasets (in pdfs and functions)\n",
      "-----------------------------------------\n",
      "RooDataHist::S_SRnominalDHist(obs_x_SR)\n",
      "RooDataHist::B_SRnominalDHist(obs_x_SR)\n",
      "\n",
      "named sets\n",
      "----------\n",
      "ModelConfig_GlobalObservables:(nominalLumi)\n",
      "ModelConfig_Observables:(obs_x_SR)\n",
      "coefList:(binWidth_obs_x_SR_0,binWidth_obs_x_SR_1)\n",
      "constraintTerms:(lumiConstraint)\n",
      "globalObservables:(nominalLumi)\n",
      "likelihoodTerms:(SR_model)\n",
      "obsAndWeight:(weightVar,obs_x_SR)\n",
      "observables:(obs_x_SR)\n",
      "observablesSet:(obs_x_SR)\n",
      "shapeList:(L_x_S_SR_overallSyst_x_Exp,L_x_B_SR_overallSyst_x_Exp)\n",
      "\n",
      "generic objects\n",
      "---------------\n",
      "RooStats::ModelConfig::ModelConfig\n",
      "\n",
      "[#2] INFO:HistFactory -- Setting Parameter(s) of Interest as: mu \n",
      "\n",
      "=== Using the following for ModelConfig ===\n",
      "Observables:             RooArgSet:: = (obs_x_SR)\n",
      "Parameters of Interest:  RooArgSet:: = (mu)\n",
      "Nuisance Parameters:     RooArgSet:: = (Lumi)\n",
      "Global Observables:      RooArgSet:: = (nominalLumi)\n",
      "PDF:                     RooProdPdf::model_SR[ lumiConstraint * SR_model(obs_x_SR) ] = 14.6\n",
      "\n",
      "[#2] INFO:HistFactory -- Opening File to hold channel: workspaces/NumberCounting/ws_SR_NumberCounting_model.root\n",
      "[#2] INFO:HistFactory -- About to write channel measurement to file\n",
      "[#2] PROGRESS:HistFactory -- Writing sample: S\n",
      "[#2] PROGRESS:HistFactory -- Writing sample: B\n",
      "[#2] PROGRESS:HistFactory -- Saved all histograms\n",
      "[#2] PROGRESS:HistFactory -- Saved Measurement\n",
      "[#2] PROGRESS:HistFactory -- Successfully wrote channel to file\n",
      "[#2] INFO:HistFactory -- full list of observables:\n",
      "[#2] INFO:HistFactory -- (obs_x_SR)[#2] PROGRESS:HistFactory -- \n",
      "-----------------------------------------\n",
      "\tEntering combination\n",
      "-----------------------------------------\n",
      "\n",
      "[#2] PROGRESS:HistFactory -- \n",
      "-----------------------------------------\n",
      "\tcreate toy data for channelCat[SR]\n",
      "-----------------------------------------\n",
      "\n",
      "RooDataSet::AsimovData0[obs_x_SR,channelCat,weight:binWeightAsimov] = 1 entries (14.6 weighted)\n",
      "[#2] PROGRESS:HistFactory -- Merging data for channel SR\n",
      "\n",
      "RooWorkspace(combined) combined contents\n",
      "\n",
      "variables\n",
      "---------\n",
      "(channelCat,nominalLumi,obs_x_SR,weightVar)\n",
      "\n",
      "datasets\n",
      "--------\n",
      "RooDataSet::asimovData(obs_x_SR,weightVar,channelCat)\n",
      "RooDataSet::obsData(channelCat,obs_x_SR)\n",
      "\n",
      "named sets\n",
      "----------\n",
      "ModelConfig_GlobalObservables:(nominalLumi)\n",
      "ModelConfig_Observables:(obs_x_SR,weightVar,channelCat)\n",
      "globalObservables:(nominalLumi)\n",
      "observables:(obs_x_SR,weightVar,channelCat)\n",
      "\n",
      "[#2] PROGRESS:HistFactory -- \n",
      "-----------------------------------------\n",
      "\tImporting combined model\n",
      "-----------------------------------------\n",
      "\n",
      "[#2] INFO:HistFactory -- Setting Parameter(s) of Interest as: mu \n",
      "\n",
      "=== Using the following for ModelConfig ===\n",
      "Observables:             RooArgSet:: = (obs_x_SR,weightVar,channelCat)\n",
      "Parameters of Interest:  RooArgSet:: = (mu)\n",
      "Nuisance Parameters:     RooArgSet:: = (Lumi)\n",
      "Global Observables:      RooArgSet:: = (nominalLumi)\n",
      "PDF:                     RooSimultaneous::simPdf[ indexCat=channelCat SR=model_SR ] = 14.6\n",
      "\n",
      "[#2] PROGRESS:HistFactory -- Writing combined workspace to file: workspaces/NumberCounting/ws_combined_NumberCounting_model.root\n",
      "[#2] PROGRESS:HistFactory -- Writing combined measurement to file: workspaces/NumberCounting/ws_combined_NumberCounting_model.root\n",
      "[#2] PROGRESS:HistFactory -- Writing sample: S\n",
      "[#2] PROGRESS:HistFactory -- Writing sample: B\n",
      "[#2] PROGRESS:HistFactory -- Saved all histograms\n",
      "[#2] PROGRESS:HistFactory -- Saved Measurement\n"
     ]
    }
   ],
   "source": [
    "ROOT.RooStats.HistFactory.MakeModelAndMeasurementFast(meas)"
   ]
  },
  {
   "cell_type": "code",
   "execution_count": 8,
   "id": "4d2e3133",
   "metadata": {},
   "outputs": [
    {
     "name": "stdout",
     "output_type": "stream",
     "text": [
      "ws_NumberCounting.root\t\t ws_combined_NumberCounting_model.root\r\n",
      "ws_SR_NumberCounting_model.root  ws_results.table\r\n"
     ]
    }
   ],
   "source": [
    "!ls /cmpp/Lecture2_Fitting/workspaces/NumberCounting"
   ]
  },
  {
   "cell_type": "code",
   "execution_count": 9,
   "id": "96364192",
   "metadata": {},
   "outputs": [
    {
     "name": "stdout",
     "output_type": "stream",
     "text": [
      "TFile**\t\t/cmpp/Lecture2_Fitting/workspaces/NumberCounting/ws_combined_NumberCounting_model.root\t\n",
      " TFile*\t\t/cmpp/Lecture2_Fitting/workspaces/NumberCounting/ws_combined_NumberCounting_model.root\t\n",
      "  KEY: RooWorkspace\tcombined;1\tcombined\n",
      "  KEY: TProcessID\tProcessID0;1\tc4a9059e-98fd-11ec-91b3-020011acbeef\n",
      "  KEY: TDirectoryFile\tSR_hists;1\tSR_hists\n",
      "  KEY: RooStats::HistFactory::Measurement\tNumberCounting;1\tNumberCounting\n"
     ]
    }
   ],
   "source": [
    "oF = ROOT.TFile.Open(\"/cmpp/Lecture2_Fitting/workspaces/NumberCounting/ws_combined_NumberCounting_model.root\")\n",
    "oF.ls()"
   ]
  },
  {
   "cell_type": "code",
   "execution_count": 10,
   "id": "9c9f31d9",
   "metadata": {},
   "outputs": [
    {
     "name": "stdout",
     "output_type": "stream",
     "text": [
      "\n",
      "RooWorkspace(combined) combined contents\n",
      "\n",
      "variables\n",
      "---------\n",
      "(Lumi,binWidth_obs_x_SR_0,binWidth_obs_x_SR_1,channelCat,mu,nominalLumi,obs_x_SR,weightVar)\n",
      "\n",
      "p.d.f.s\n",
      "-------\n",
      "RooRealSumPdf::SR_model[ binWidth_obs_x_SR_0 * L_x_S_SR_overallSyst_x_Exp + binWidth_obs_x_SR_1 * L_x_B_SR_overallSyst_x_Exp ] = 14.6\n",
      "RooGaussian::lumiConstraint[ x=Lumi mean=nominalLumi sigma=0.019 ] = 1\n",
      "RooProdPdf::model_SR[ lumiConstraint * SR_model(obs_x_SR) ] = 14.6\n",
      "RooSimultaneous::simPdf[ indexCat=channelCat SR=model_SR ] = 14.6\n",
      "\n",
      "functions\n",
      "--------\n",
      "RooHistFunc::B_SR_nominal[ depList=(obs_x_SR) depList=(obs_x_SR) ] = 8.9\n",
      "RooProduct::B_SR_overallSyst_x_Exp[ B_SR_nominal * B_SR_epsilon ] = 8.9\n",
      "RooProduct::L_x_B_SR_overallSyst_x_Exp[ Lumi * B_SR_overallSyst_x_Exp ] = 8.9\n",
      "RooProduct::L_x_S_SR_overallSyst_x_Exp[ Lumi * S_SR_overallSyst_x_Exp ] = 5.7\n",
      "RooHistFunc::S_SR_nominal[ depList=(obs_x_SR) depList=(obs_x_SR) ] = 5.7\n",
      "RooProduct::S_SR_overallNorm_x_sigma_epsilon[ mu * S_SR_epsilon ] = 1\n",
      "RooProduct::S_SR_overallSyst_x_Exp[ S_SR_nominal * S_SR_overallNorm_x_sigma_epsilon ] = 5.7\n",
      "\n",
      "datasets\n",
      "--------\n",
      "RooDataSet::asimovData(obs_x_SR,weightVar,channelCat)\n",
      "RooDataSet::obsData(channelCat,obs_x_SR)\n",
      "\n",
      "embedded datasets (in pdfs and functions)\n",
      "-----------------------------------------\n",
      "RooDataHist::S_SRnominalDHist(obs_x_SR)\n",
      "RooDataHist::B_SRnominalDHist(obs_x_SR)\n",
      "\n",
      "parameter snapshots\n",
      "-------------------\n",
      "NominalParamValues = (nominalLumi=1[C],weightVar=0,obs_x_SR=0.5,Lumi=1,mu=1,binWidth_obs_x_SR_0=1[C],binWidth_obs_x_SR_1=1[C])\n",
      "\n",
      "named sets\n",
      "----------\n",
      "ModelConfig_GlobalObservables:(nominalLumi)\n",
      "ModelConfig_NuisParams:(Lumi)\n",
      "ModelConfig_Observables:(obs_x_SR,weightVar,channelCat)\n",
      "ModelConfig_POI:(mu)\n",
      "globalObservables:(nominalLumi)\n",
      "observables:(obs_x_SR,weightVar,channelCat)\n",
      "\n",
      "generic objects\n",
      "---------------\n",
      "RooStats::ModelConfig::ModelConfig\n",
      "\n"
     ]
    }
   ],
   "source": [
    "ws = oF.Get(\"combined\")\n",
    "ws.Print()"
   ]
  },
  {
   "cell_type": "code",
   "execution_count": 11,
   "id": "add74062",
   "metadata": {},
   "outputs": [
    {
     "name": "stdout",
     "output_type": "stream",
     "text": [
      "RooDataSet::obsData[channelCat,obs_x_SR,weight:weightVar] = 1 entries (18 weighted)\n"
     ]
    }
   ],
   "source": [
    "ws.data(\"obsData\").Print()"
   ]
  },
  {
   "cell_type": "code",
   "execution_count": 12,
   "id": "8f71b890",
   "metadata": {},
   "outputs": [
    {
     "name": "stdout",
     "output_type": "stream",
     "text": [
      "  1) 0xace22b0 RooRealVar:: Lumi = 1  L(0 - 10)  \"Lumi\"\n"
     ]
    }
   ],
   "source": [
    "ws.set(\"ModelConfig_NuisParams\").Print(\"v\")"
   ]
  },
  {
   "cell_type": "code",
   "execution_count": 13,
   "id": "dd90973a",
   "metadata": {},
   "outputs": [
    {
     "name": "stdout",
     "output_type": "stream",
     "text": [
      "  1) 0xaefe040 RooRealVar:: mu = 1  L(0 - 100)  \"mu\"\n"
     ]
    }
   ],
   "source": [
    "ws.set(\"ModelConfig_POI\").Print(\"v\")"
   ]
  },
  {
   "cell_type": "code",
   "execution_count": 14,
   "id": "535e7f28",
   "metadata": {},
   "outputs": [
    {
     "name": "stdout",
     "output_type": "stream",
     "text": [
      "RooSimultaneous::simPdf[ indexCat=channelCat SR=model_SR ] = 14.6\n"
     ]
    }
   ],
   "source": [
    "ws.pdf(\"simPdf\").Print(\"\")"
   ]
  },
  {
   "cell_type": "code",
   "execution_count": 15,
   "id": "3feef15e",
   "metadata": {},
   "outputs": [
    {
     "name": "stdout",
     "output_type": "stream",
     "text": [
      "--- RooAbsArg ---\n",
      "  Value State: DIRTY\n",
      "  Shape State: DIRTY\n",
      "  Attributes: \n",
      "  Address: 0xaea5550\n",
      "  Clients: \n",
      "  Servers: \n",
      "    (0xacce5a0,V-) RooProdPdf::model_SR \"product of Poissons accross bins for a single channel\"\n",
      "    (0xaaf2680,V-) RooCategory::channelCat \"channelCat\"\n",
      "  Proxies: \n",
      "    !plotCoefNormSet -> \n",
      "    indexCat -> channelCat\n",
      "    SR -> model_SR\n",
      "--- RooAbsReal ---\n",
      "\n",
      "  Plot label is \"simPdf\"\n",
      "--- RooAbsPdf ---\n",
      "Cached value = 0\n"
     ]
    }
   ],
   "source": [
    "ws.pdf(\"simPdf\").Print(\"v\")"
   ]
  },
  {
   "cell_type": "code",
   "execution_count": null,
   "id": "d40e4e7a",
   "metadata": {},
   "outputs": [],
   "source": []
  }
 ],
 "metadata": {
  "kernelspec": {
   "display_name": "Python 3 (ipykernel)",
   "language": "python",
   "name": "python3"
  },
  "language_info": {
   "codemirror_mode": {
    "name": "ipython",
    "version": 3
   },
   "file_extension": ".py",
   "mimetype": "text/x-python",
   "name": "python",
   "nbconvert_exporter": "python",
   "pygments_lexer": "ipython3",
   "version": "3.8.10"
  }
 },
 "nbformat": 4,
 "nbformat_minor": 5
}
